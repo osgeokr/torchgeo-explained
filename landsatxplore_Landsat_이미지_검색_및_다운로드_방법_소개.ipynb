{
  "nbformat": 4,
  "nbformat_minor": 0,
  "metadata": {
    "colab": {
      "provenance": [],
      "authorship_tag": "ABX9TyPCDz0Get4W3WAb+dxUWHMP",
      "include_colab_link": true
    },
    "kernelspec": {
      "name": "python3",
      "display_name": "Python 3"
    },
    "language_info": {
      "name": "python"
    }
  },
  "cells": [
    {
      "cell_type": "markdown",
      "metadata": {
        "id": "view-in-github",
        "colab_type": "text"
      },
      "source": [
        "<a href=\"https://colab.research.google.com/github/osgeokr/torchgeo-explained/blob/main/landsatxplore_Landsat_%EC%9D%B4%EB%AF%B8%EC%A7%80_%EA%B2%80%EC%83%89_%EB%B0%8F_%EB%8B%A4%EC%9A%B4%EB%A1%9C%EB%93%9C_%EB%B0%A9%EB%B2%95_%EC%86%8C%EA%B0%9C.ipynb\" target=\"_parent\"><img src=\"https://colab.research.google.com/assets/colab-badge.svg\" alt=\"Open In Colab\"/></a>"
      ]
    },
    {
      "cell_type": "code",
      "execution_count": null,
      "metadata": {
        "id": "o9BOHLZinXzp"
      },
      "outputs": [],
      "source": []
    }
  ]
}