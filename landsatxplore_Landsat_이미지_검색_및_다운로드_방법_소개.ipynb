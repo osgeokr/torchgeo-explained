{
  "nbformat": 4,
  "nbformat_minor": 0,
  "metadata": {
    "colab": {
      "provenance": [],
      "authorship_tag": "ABX9TyPZtXPY77T8X2rD4ZOcB9b8",
      "include_colab_link": true
    },
    "kernelspec": {
      "name": "python3",
      "display_name": "Python 3"
    },
    "language_info": {
      "name": "python"
    }
  },
  "cells": [
    {
      "cell_type": "markdown",
      "metadata": {
        "id": "view-in-github",
        "colab_type": "text"
      },
      "source": [
        "<a href=\"https://colab.research.google.com/github/osgeokr/torchgeo-explained/blob/main/landsatxplore_Landsat_%EC%9D%B4%EB%AF%B8%EC%A7%80_%EA%B2%80%EC%83%89_%EB%B0%8F_%EB%8B%A4%EC%9A%B4%EB%A1%9C%EB%93%9C_%EB%B0%A9%EB%B2%95_%EC%86%8C%EA%B0%9C.ipynb\" target=\"_parent\"><img src=\"https://colab.research.google.com/assets/colab-badge.svg\" alt=\"Open In Colab\"/></a>"
      ]
    },
    {
      "cell_type": "markdown",
      "source": [
        "# landsatxplore(랜드샛익스플로어) Python 패키지\n",
        "\n",
        "[landsatxplore](https://pypi.org/project/landsatxplore/)은 [EarthExplorer](https://earthexplorer.usgs.gov/)에서 Landsat 이미지를 검색하고 다운로드하는 Python 패키지입니다."
      ],
      "metadata": {
        "id": "SB6FBOOrnr6F"
      }
    },
    {
      "cell_type": "code",
      "source": [
        "%pip install -q -U landsatxplore"
      ],
      "metadata": {
        "id": "d9g5sTKk8MAG"
      },
      "execution_count": null,
      "outputs": []
    },
    {
      "cell_type": "code",
      "source": [
        "from landsatxplore.api import API\n",
        "import ee"
      ],
      "metadata": {
        "id": "LVi8ORqa8HPA"
      },
      "execution_count": 9,
      "outputs": []
    },
    {
      "cell_type": "code",
      "source": [
        "# Earth Engine 인증\n",
        "ee.Authenticate()\n",
        "\n",
        "# Earth Engine 초기화\n",
        "ee.Initialize(project='my-project')"
      ],
      "metadata": {
        "id": "SpUFVYxS9xFV"
      },
      "execution_count": 11,
      "outputs": []
    },
    {
      "cell_type": "code",
      "source": [
        "# EarthExplorer 계정 정보 입력\n",
        "username = 'my-username'\n",
        "password = 'my-password'"
      ],
      "metadata": {
        "id": "VRlJVEIZ8X0X"
      },
      "execution_count": 7,
      "outputs": []
    },
    {
      "cell_type": "code",
      "source": [
        "# API 인스턴스 생성\n",
        "api = API(username, password)"
      ],
      "metadata": {
        "id": "jMee76bm8gaW"
      },
      "execution_count": 8,
      "outputs": []
    },
    {
      "cell_type": "code",
      "source": [],
      "metadata": {
        "id": "-ltEZDBI9DQv"
      },
      "execution_count": null,
      "outputs": []
    },
    {
      "cell_type": "code",
      "source": [
        "from landsatxplore.api import API\n",
        "\n",
        "# Initialize a new API instance and get an access key\n",
        "api = API(username, password)\n",
        "\n",
        "# Perform a request. Results are returned in a dictionnary\n",
        "response = api.request(\n",
        "    '<request_endpoint>',\n",
        "    params={\n",
        "        \"param_1\": value_1,\n",
        "        \"param_2\": value_2\n",
        "    }\n",
        ")\n",
        "\n",
        "# Log out\n",
        "api.logout()"
      ],
      "metadata": {
        "id": "2P4Ou3T1oYXc"
      },
      "execution_count": null,
      "outputs": []
    }
  ]
}